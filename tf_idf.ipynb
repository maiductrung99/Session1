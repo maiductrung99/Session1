{
 "cells": [
  {
   "cell_type": "code",
   "execution_count": 48,
   "metadata": {},
   "outputs": [],
   "source": [
    "from collections import defaultdict\n",
    "import os\n",
    "import re\n",
    "import numpy as np\n",
    "from nltk.stem.porter import PorterStemmer"
   ]
  },
  {
   "cell_type": "code",
   "execution_count": 49,
   "metadata": {},
   "outputs": [],
   "source": [
    "def gather_20newsgroups_data():\n",
    "    path='./datasets/20news-bydate/'\n",
    "    \n",
    "    dir = [path + dir_name + '/'\n",
    "          for dir_name in listdir(path)\n",
    "          if not isfile(path + dir_name)]\n",
    "    \n",
    "    train_dir, test_dir = (dirs[0], dirs[1]) if 'train' in dirs[0] \\\n",
    "        else (dirs[1], dirs[0])\n",
    "    list_newsgroups = [newsgroup\n",
    "                     for newsgroup in os.listdir(train_dir)]\n",
    "    list_newsgroups.sort()\n",
    "    \n",
    "    with open(\"./datasets/20news-bydate/stop_words.txt\") as f:\n",
    "        stop_words = f.read().splitlines()\n",
    "    stemmer = PorterStemmer()\n",
    "    \n",
    "   \n",
    "    \n",
    "    "
   ]
  },
  {
   "cell_type": "code",
   "execution_count": 50,
   "metadata": {},
   "outputs": [],
   "source": [
    "def collect_data_from(parent_dir, newsgroup_list):\n",
    "    data = []\n",
    "    for group_id, newsgroup in enumerate(newsgroup_list):\n",
    "        label = group_id\n",
    "        dir_path = parent_dir + \"/\" + newsgroup + \"/\"\n",
    "        files = [(filename, dir_path + filename)\n",
    "                for filename in os.listdir(dir_path)\n",
    "                if os.path.isfile(dir_path + filename)]\n",
    "        files.sort()\n",
    "\n",
    "        for filename, filepath in files:\n",
    "            with open(filepath) as f:\n",
    "                text = f.read().lower()\n",
    "\n",
    "                words = [\n",
    "                    stemmer.stem(word)\n",
    "                    for word in re.split(\"\\W+\", text)\n",
    "                    if word not in stop_words\n",
    "                ]\n",
    "                content = \" \".join(words)\n",
    "                assert len(content.splitlines()) == 1\n",
    "                data.append(str(label) + \"<fff>\" +\n",
    "                            filename + \"<fff>\" + content)\n",
    "    return data\n",
    "    \n",
    "    train_data = collect_data_from(parent_dir = train_dir, \n",
    "                                   newsgroup_list=list_newsgroups)\n",
    "    test_data = collect_data_from(parent_dir=test_dir,\n",
    "                                  newsgroup_list=list_newsgroups)\n",
    "    full_data= train_data + test_data\n",
    "    with open(\"./datasets/20news-bydate/20news-train-processed.txt\", 'w') as f:\n",
    "        f.write(\"\\n\".join(train_data))\n",
    "    with open(\"./datasets/20news-bydate/20news-test-processed.txt\", \"w\") as f:\n",
    "        f.write(\"\\n\".join(test_data))\n",
    "    with open(\"./datasets/20news-bydate/20news-full-processed.txt\", \"w\") as f:\n",
    "        f.write(\"\\n\".join(full_data))"
   ]
  },
  {
   "cell_type": "code",
   "execution_count": 51,
   "metadata": {},
   "outputs": [],
   "source": [
    "def generate_vocabulary(data_path):\n",
    "    def compute_idf(df, corpus_size):\n",
    "        assert df > 0\n",
    "        return np.log10(corpus_size * 1. / df)\n",
    "\n",
    "    with open(data_path) as f:\n",
    "        lines = f.read().splitlines()\n",
    "    doc_count = defaultdict(int)\n",
    "    corpus_size = len(lines)\n",
    "    for line in lines:\n",
    "        features = line.split(\"<fff>\")\n",
    "        text = features[-1]\n",
    "        words = list(set(text.split()))\n",
    "        for word in words:\n",
    "            doc_count[word] += 1\n",
    "\n",
    "    words_idfs = [(word, compute_idf(document_freq, corpus_size))\n",
    "            for word, document_freq in \n",
    "            zip(doc_count.keys(), doc_count.values())\n",
    "            if document_freq > 10 and not word.isdigit()]\n",
    "\n",
    "    words_idfs.sort(key=lambda x: -x[1])\n",
    "    print(\"Vocabulary size: {}\".format(len(doc_count)))\n",
    "\n",
    "    with open(\"./datasets/20news-bydate/words_idfs.txt\", \"w\") as f:\n",
    "        f.write('\\n'.join([word + '<fff>' + str(idf) for word, idf in words_idfs]))"
   ]
  },
  {
   "cell_type": "code",
   "execution_count": 52,
   "metadata": {},
   "outputs": [],
   "source": [
    "def get_tf_idf(data_path):\n",
    "    with open(\"./datasets/20news-bydate/words_idfs.txt\") as f:\n",
    "        words_idfs = [(line.split(\"<fff>\")[0], float(line.split(\"<fff>\")[1]))\n",
    "                      for line in f.read().splitlines()]\n",
    "\n",
    "        words_IDs = dict([(word, index) \n",
    "                    for index, (word, idf) in enumerate(words_idfs)])\n",
    "\n",
    "        idfs = dict(words_idfs)\n",
    "        \n",
    "    with open(data_path) as f:\n",
    "        documents = [\n",
    "            (\n",
    "                int(line.split(\"<fff>\")[0]),\n",
    "                int(line.split(\"<fff>\")[1]),\n",
    "                line.split(\"<fff>\")[2],\n",
    "            )\n",
    "            for line in f.read().splitlines()\n",
    "        ]\n",
    "\n",
    "    data_tf_idf = []\n",
    "    for document in documents:\n",
    "        label, doc_id, text = document\n",
    "        words = [word for word in text.split() if word in idfs]\n",
    "        word_set = list(set(words))\n",
    "        max_term_freq = max([words.count(word) for word in word_set])\n",
    "        words_tfidfs = []\n",
    "        sum_squares = 0.0\n",
    "        for word in word_set:\n",
    "            term_freq = words.count(word)\n",
    "            tf_idf_value = term_freq / max_term_freq * idfs[word]\n",
    "            words_tfidfs.append((words_IDs[word], tf_idf_value))\n",
    "            sum_squares += tf_idf_value ** 2\n",
    "\n",
    "        words_tfidfs_normalized = [\n",
    "            str(index) + \":\" + str(tf_idf_value / np.sqrt(sum_squares))\n",
    "            for index, tf_idf_value in words_tfidfs\n",
    "        ]\n",
    "        sparse_rep = \" \".join(words_tfidfs_normalized)\n",
    "        data_tf_idf.append((label, doc_id, sparse_rep))\n",
    "\n",
    "    with open(\"./datasets/20news-bydate/words_tf_idf.txt\", \"w\") as f:\n",
    "        f.write(\n",
    "            \"\\n\".join(\n",
    "                [\n",
    "                    str(label) + \"<fff>\" + str(word_id) + \"<fff>\" + str(tf_idfs)\n",
    "                    for (label, word_id, tf_idfs) in data_tf_idf\n",
    "                ]\n",
    "            )\n",
    "        )\n",
    "\n"
   ]
  },
  {
   "cell_type": "code",
   "execution_count": null,
   "metadata": {},
   "outputs": [
    {
     "name": "stdout",
     "output_type": "stream",
     "text": [
      "Vocabulary size: 110534\n"
     ]
    }
   ],
   "source": [
    "generate_vocabulary(\"./datasets/20news-bydate/20news-train-processed.txt\")\n",
    "get_tf_idf(\"./datasets/20news-bydate/20news-train-processed.txt\")"
   ]
  },
  {
   "cell_type": "code",
   "execution_count": null,
   "metadata": {},
   "outputs": [],
   "source": []
  }
 ],
 "metadata": {
  "kernelspec": {
   "display_name": "Python 3",
   "language": "python",
   "name": "python3"
  },
  "language_info": {
   "codemirror_mode": {
    "name": "ipython",
    "version": 3
   },
   "file_extension": ".py",
   "mimetype": "text/x-python",
   "name": "python",
   "nbconvert_exporter": "python",
   "pygments_lexer": "ipython3",
   "version": "3.8.2"
  }
 },
 "nbformat": 4,
 "nbformat_minor": 4
}
